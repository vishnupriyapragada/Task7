{
 "cells": [
  {
   "cell_type": "code",
   "execution_count": 10,
   "id": "4b67747c",
   "metadata": {},
   "outputs": [],
   "source": [
    "import sqlite3\n",
    "import pandas as pd\n",
    "import matplotlib.pyplot as plt"
   ]
  },
  {
   "cell_type": "code",
   "execution_count": 11,
   "id": "feb16f1a",
   "metadata": {},
   "outputs": [],
   "source": [
    "conn = sqlite3.connect(\"sales_data.db\")\n",
    "cursor = conn.cursor()"
   ]
  },
  {
   "cell_type": "code",
   "execution_count": 12,
   "id": "e3b5154f",
   "metadata": {},
   "outputs": [
    {
     "data": {
      "text/plain": [
       "<sqlite3.Cursor at 0x18e9eea9a40>"
      ]
     },
     "execution_count": 12,
     "metadata": {},
     "output_type": "execute_result"
    }
   ],
   "source": [
    "# 2. Create the sales table\n",
    "cursor.execute(\"\"\"\n",
    "CREATE TABLE IF NOT EXISTS sales (\n",
    "    id INTEGER PRIMARY KEY AUTOINCREMENT,\n",
    "    product TEXT,\n",
    "    quantity INTEGER,\n",
    "    price REAL\n",
    ")\n",
    "\"\"\")"
   ]
  },
  {
   "cell_type": "code",
   "execution_count": 13,
   "id": "9e65f8a5",
   "metadata": {},
   "outputs": [],
   "source": [
    "# 3. Insert sample technical product sales data (unique items)\n",
    "sample_data = [\n",
    "    (\"Laptop\", 5, 55000.0),\n",
    "    (\"Desktop PC\", 4, 45000.0),\n",
    "    (\"Monitor 24in\", 10, 12000.0),\n",
    "    (\"Mechanical Keyboard\", 12, 3500.0),\n",
    "    (\"Wireless Mouse\", 20, 1200.0),\n",
    "    (\"External Hard Drive 1TB\", 8, 4500.0),\n",
    "    (\"SSD 512GB\", 15, 5500.0),\n",
    "    (\"Router\", 7, 3000.0),\n",
    "    (\"Printer LaserJet\", 6, 22000.0),\n",
    "    (\"Webcam HD\", 9, 2500.0),\n",
    "    (\"Graphics Card RTX 3060\", 3, 38000.0),\n",
    "    (\"USB-C Hub\", 14, 1800.0),\n",
    "    (\"Smartphone\", 6, 60000.0),\n",
    "    (\"Tablet\", 5, 35000.0),\n",
    "    (\"Smartwatch\", 8, 15000.0)\n",
    "]"
   ]
  },
  {
   "cell_type": "code",
   "execution_count": 14,
   "id": "3063d3a4",
   "metadata": {},
   "outputs": [],
   "source": [
    "cursor.executemany(\"INSERT INTO sales (product, quantity, price) VALUES (?, ?, ?)\", sample_data)\n",
    "conn.commit()"
   ]
  },
  {
   "cell_type": "code",
   "execution_count": 15,
   "id": "2a7f5aae",
   "metadata": {},
   "outputs": [],
   "source": [
    "# 4. Run SQL query to get total quantity & revenue per product\n",
    "query = \"\"\"\n",
    "SELECT product,\n",
    "       SUM(quantity) AS total_qty,\n",
    "       SUM(quantity * price) AS revenue\n",
    "FROM sales\n",
    "GROUP BY product\n",
    "\"\"\"\n",
    "df = pd.read_sql_query(query, conn)"
   ]
  },
  {
   "cell_type": "code",
   "execution_count": 16,
   "id": "805d358b",
   "metadata": {},
   "outputs": [
    {
     "name": "stdout",
     "output_type": "stream",
     "text": [
      "Sales Summary:\n",
      "                    product  total_qty   revenue\n",
      "0                Desktop PC          4  180000.0\n",
      "1   External Hard Drive 1TB          8   36000.0\n",
      "2    Graphics Card RTX 3060          3  114000.0\n",
      "3                  Keyboard         35   52500.0\n",
      "4                    Laptop         13  715000.0\n",
      "5       Mechanical Keyboard         12   42000.0\n",
      "6                   Monitor         17  204000.0\n",
      "7              Monitor 24in         10  120000.0\n",
      "8                     Mouse         55   44000.0\n",
      "9                   Printer         10  180000.0\n",
      "10         Printer LaserJet          6  132000.0\n",
      "11                   Router          7   21000.0\n",
      "12                SSD 512GB         15   82500.0\n",
      "13               Smartphone          6  360000.0\n",
      "14               Smartwatch          8  120000.0\n",
      "15                   Tablet          5  175000.0\n",
      "16                USB-C Hub         14   25200.0\n",
      "17                Webcam HD          9   22500.0\n",
      "18           Wireless Mouse         20   24000.0\n"
     ]
    }
   ],
   "source": [
    "# 5. Display results\n",
    "print(\"Sales Summary:\")\n",
    "print(df)"
   ]
  },
  {
   "cell_type": "code",
   "execution_count": 18,
   "id": "903dce74",
   "metadata": {},
   "outputs": [
    {
     "data": {
      "text/plain": [
       "<Figure size 864x432 with 0 Axes>"
      ]
     },
     "metadata": {},
     "output_type": "display_data"
    },
    {
     "data": {
      "image/png": "[encoded data removed]",
      "text/plain": [
       "<Figure size 432x288 with 1 Axes>"
      ]
     },
     "metadata": {
      "needs_background": "light"
     },
     "output_type": "display_data"
    }
   ],
   "source": [
    "# 6. Plot a bar chart for revenue by product\n",
    "plt.figure(figsize=(12, 6))  # Make chart wider\n",
    "df.plot(kind='bar', x='product', y='revenue', legend=False, color='skyblue')\n",
    "plt.ylabel('Revenue')\n",
    "plt.title('Revenue by Product')\n",
    "plt.xticks(rotation=45, ha='right')  # Rotate labels so they don't overlap\n",
    "plt.tight_layout()\n",
    "plt.show()\n"
   ]
  },
  {
   "cell_type": "code",
   "execution_count": 21,
   "id": "dc3e757d",
   "metadata": {},
   "outputs": [],
   "source": [
    "# Close connection\n",
    "conn.close()"
   ]
  },
  {
   "cell_type": "code",
   "execution_count": null,
   "id": "42993c18",
   "metadata": {},
   "outputs": [],
   "source": []
  }
 ],
 "metadata": {
  "kernelspec": {
   "display_name": "Python 3 (ipykernel)",
   "language": "python",
   "name": "python3"
  },
  "language_info": {
   "codemirror_mode": {
    "name": "ipython",
    "version": 3
   },
   "file_extension": ".py",
   "mimetype": "text/x-python",
   "name": "python",
   "nbconvert_exporter": "python",
   "pygments_lexer": "ipython3",
   "version": "3.9.7"
  }
 },
 "nbformat": 4,
 "nbformat_minor": 5
}
